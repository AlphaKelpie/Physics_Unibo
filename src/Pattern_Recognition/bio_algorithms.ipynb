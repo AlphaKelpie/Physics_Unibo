{
 "cells": [
  {
   "attachments": {},
   "cell_type": "markdown",
   "metadata": {},
   "source": [
    "# Bio-Inspired Algorithm\n",
    "\n",
    "We've just seen how to scrape data from internet.\n",
    "This is not a unique approach to machine learning.\n",
    "We now want to focus on image data.\n",
    "\n",
    "Bio-inspired algorithms are widely spread, e.g. used in logistical management.\n",
    "Actually we want to translate what we see in nature into code, for instance the ant colony optimization is based on ants movements.\n",
    "In general, these algorithms minimize a loss function or maximize a fitness function.\n",
    "\n",
    "Genetic algorithms are based on Darwin's theory.\n",
    "We define a population as a list of several chromosomes, where each chromosome is a sequence (list) of genes.\n",
    "Natural selection requires to find the fittest individuals: we've to iterate over data as long as we find the desired fit population.\n",
    "We've five phases:\n",
    "1. Initial population, sets of variables (*chromosomes*)\n",
    "2. Fitness function, where we assume to have a maximum, which means that a best solution exists\n",
    "3. Selection, in which we select, in some way, the fittest individuals and let them pass their genes\n",
    "4. Crossover, i.e. the recombination phase, in which genetic information are combined\n",
    "5. Mutation, with low random probability to maintain diversity within population and prevent early stops of the loop\n",
    "\n",
    "The stop criteria is arbitrary, as usually happens.\n",
    "\n",
    "[To see an implementation]()."
   ]
  }
 ],
 "metadata": {
  "kernelspec": {
   "display_name": "Python 3",
   "language": "python",
   "name": "python3"
  },
  "language_info": {
   "name": "python",
   "version": "3.10.6"
  },
  "orig_nbformat": 4
 },
 "nbformat": 4,
 "nbformat_minor": 2
}
